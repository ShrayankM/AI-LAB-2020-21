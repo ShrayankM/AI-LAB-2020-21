{
  "nbformat": 4,
  "nbformat_minor": 0,
  "metadata": {
    "colab": {
      "name": "CSP_GraphColoring.ipynb",
      "provenance": [],
      "collapsed_sections": [],
      "toc_visible": true
    },
    "kernelspec": {
      "name": "python3",
      "display_name": "Python 3"
    },
    "language_info": {
      "name": "python"
    }
  },
  "cells": [
    {
      "cell_type": "markdown",
      "metadata": {
        "id": "4tSbEsRFCR4Y"
      },
      "source": [
        "# Constraint Statisfaction Problem (Graph Coloring)\n",
        "\n",
        "**Problem Statement** - *Given a graph with N no. of nodes and C no. of colors, color every node such that no 2 adjacent nodes are of the same color.* \n",
        "\n",
        "## Methods ##\n",
        "1. Simple Backtracking\n",
        "2. Local Search\n",
        "3. Backtracking with Forward Checking\n",
        "4. AC3 Backtracking search"
      ]
    },
    {
      "cell_type": "code",
      "metadata": {
        "id": "jdNthgyjG5JQ"
      },
      "source": [
        "#* All Imports\n",
        "import numpy as np\n",
        "import sys\n",
        "import networkx as nx\n",
        "import matplotlib.pyplot as plt"
      ],
      "execution_count": 76,
      "outputs": []
    },
    {
      "cell_type": "markdown",
      "metadata": {
        "id": "__f6jkIADSNf"
      },
      "source": [
        "## Data-Structures for graph representation\n",
        "1. *Class Edge is used to represent edge from node(i) to node(j)*\n",
        "2. *Class Graph is used to represnt the entire Graph*"
      ]
    },
    {
      "cell_type": "code",
      "metadata": {
        "id": "PltbWVSVCybO"
      },
      "source": [
        "NODES = 7\n",
        "COLORS = 3\n",
        "\n",
        "#* Initial Color Matrix\n",
        "color_matrix = [[1 for i in range(0, COLORS)] for j in range(0, NODES)]\n",
        "def reset():\n",
        "    color_matrix = [[1 for i in range(0, COLORS)] for j in range(0, NODES)]\n",
        "\n",
        "class Edge:\n",
        "    def __init__(self, i, j):\n",
        "        self.source = i\n",
        "        self.destination = j\n",
        "\n",
        "class Graph:\n",
        "    def __init__(self, edges):\n",
        "        self.adjacency_list = [[] for i in range(0, NODES)]\n",
        "        for edge in edges:\n",
        "            self.adjacency_list[edge.source].append(edge.destination)\n",
        "            self.adjacency_list[edge.destination].append(edge.source)\n",
        "\n",
        "    def __str__(self):\n",
        "        output = \"\"\n",
        "        for i in range(0, len(self.adjacency_list)):\n",
        "            output += \"Node \" + str(i) + \" -> \" + str(self.adjacency_list[i]) + \"\\n\";\n",
        "        return output"
      ],
      "execution_count": 77,
      "outputs": []
    },
    {
      "cell_type": "markdown",
      "metadata": {
        "id": "EY2uV6UEE2Jg"
      },
      "source": [
        "## Common helper functions"
      ]
    },
    {
      "cell_type": "markdown",
      "metadata": {
        "id": "ZG_HZFhAGX3q"
      },
      "source": [
        "### Select Node function"
      ]
    },
    {
      "cell_type": "code",
      "metadata": {
        "id": "Lg03Ut7kE8Jh"
      },
      "source": [
        "def select_node(graph, assigned):\n",
        "    ans = list()\n",
        "    max_value = 0\n",
        "    min_color = 999999\n",
        "\n",
        "    for i in range(0, NODES):\n",
        "        value = len(graph.adjacency_list[i])\n",
        "\n",
        "        #* Get the values with min possible colors and max neighbours\n",
        "        allowed = sum(color_matrix[i])\n",
        "        \n",
        "        if min_color > allowed and assigned[i] == -1:\n",
        "            min_color = allowed\n",
        "        \n",
        "        if value > max_value and assigned[i] == -1:\n",
        "            max_value = value\n",
        "    \n",
        "    for i in range(0, NODES):\n",
        "        allowed = sum(color_matrix[i])\n",
        "        if (allowed == min_color and assigned[i] == -1):\n",
        "            ans.append(i)\n",
        "    \n",
        "    if len(ans) == 1:\n",
        "        return ans[0]\n",
        "    \n",
        "    for i in range(0, NODES):\n",
        "        if max_value == len(graph.adjacency_list[i]) and assigned[i] == -1:\n",
        "            return i"
      ],
      "execution_count": 78,
      "outputs": []
    },
    {
      "cell_type": "markdown",
      "metadata": {
        "id": "yoVfXf6jGdIi"
      },
      "source": [
        "### Select color function"
      ]
    },
    {
      "cell_type": "code",
      "metadata": {
        "id": "fhUaz-9GFQRj"
      },
      "source": [
        "#* Helper function for selecting the best possible color for selected node\n",
        "def select_color(graph, node, color, assigned):\n",
        "    s = 0\n",
        "    values = list()\n",
        "\n",
        "    #* Check if node has any avaliable color choices\n",
        "    if (sum(color_matrix[node]) == 0): return -1\n",
        "\n",
        "    for i in range(0, COLORS):\n",
        "        for adj in graph.adjacency_list[node]:\n",
        "\n",
        "            if assigned[adj] == -1:\n",
        "                s += sum(color_matrix[adj])\n",
        "            \n",
        "            if color_matrix[adj][i] == 1 and assigned[adj] == -1:\n",
        "                s = s - 1\n",
        "        values.append([s, i])\n",
        "        s = 0\n",
        "    values = sorted(values)\n",
        "\n",
        "    if color < len(values):\n",
        "        return values[color][1]\n",
        "    \n",
        "    return -1"
      ],
      "execution_count": 79,
      "outputs": []
    },
    {
      "cell_type": "markdown",
      "metadata": {
        "id": "2k443gLwGjY2"
      },
      "source": [
        "### Constraint Check"
      ]
    },
    {
      "cell_type": "code",
      "metadata": {
        "id": "U2yXez4DF0u7"
      },
      "source": [
        "#* Checking if color assignment is feasible\n",
        "def check_consistency(graph, node, color_value, assigned):\n",
        "    for neigh in graph.adjacency_list[node]:\n",
        "        if assigned[neigh] == color_value:\n",
        "            return False\n",
        "    return True"
      ],
      "execution_count": 80,
      "outputs": []
    },
    {
      "cell_type": "markdown",
      "metadata": {
        "id": "5PUgZCVxGp78"
      },
      "source": [
        "## Simple Backtracking"
      ]
    },
    {
      "cell_type": "code",
      "metadata": {
        "id": "zu6YZHdjGrTO"
      },
      "source": [
        "#* Simple Backtracking Algorithm implementation\n",
        "def simple_backtracking(graph, assigned):\n",
        "\n",
        "    return_ans = True\n",
        "    assign = False\n",
        "\n",
        "    #* Check if all colors are assigned\n",
        "    for i in range(0, NODES):\n",
        "        if assigned[i] == -1:\n",
        "            return_ans = False\n",
        "            break\n",
        "\n",
        "    if return_ans: return assigned\n",
        "\n",
        "    #* Getting the best node possible\n",
        "    node = select_node(graph, assigned)\n",
        "\n",
        "    print(\"Selected Node = \" + str(node))\n",
        "\n",
        "    for color in range(0, COLORS):\n",
        "        color_value = color\n",
        "        if color_value == -1:\n",
        "            return\n",
        "        \n",
        "        if check_consistency(graph, node, color_value, assigned):\n",
        "            assigned[node] = color_value\n",
        "            assign = True\n",
        "            print(\"COLOR given to Node \" + str(node) + \" is \" + str(color_value))\n",
        "\n",
        "            result = simple_backtracking(graph, assigned)\n",
        "            if (len(result) != 1):\n",
        "                return result\n",
        "        if assign: assigned[node] = -1\n",
        "    return"
      ],
      "execution_count": 81,
      "outputs": []
    },
    {
      "cell_type": "markdown",
      "metadata": {
        "id": "uHLSx3GuFiUx"
      },
      "source": [
        "## Forward Backtracking"
      ]
    },
    {
      "cell_type": "markdown",
      "metadata": {
        "id": "RZ515jDHGzi1"
      },
      "source": [
        "### Update Forward"
      ]
    },
    {
      "cell_type": "code",
      "metadata": {
        "id": "kQMD6WURFZdB"
      },
      "source": [
        "#* Checking Forward and updating color before time\n",
        "def add_forward(graph, node, color_value):\n",
        "    for neigh in graph.adjacency_list[node]:\n",
        "        color_matrix[neigh][color_value] = 0"
      ],
      "execution_count": 82,
      "outputs": []
    },
    {
      "cell_type": "markdown",
      "metadata": {
        "id": "f-QdsiakG-mt"
      },
      "source": [
        "### Revert Forward"
      ]
    },
    {
      "cell_type": "code",
      "metadata": {
        "id": "igw-hx4AGXBY"
      },
      "source": [
        "#* Reverting any changes made by add_forward function\n",
        "def revert_forward(color_value, temp):\n",
        "    for i in range(0, NODES):\n",
        "        color_matrix[i][color_value] = temp[i]"
      ],
      "execution_count": 83,
      "outputs": []
    },
    {
      "cell_type": "markdown",
      "metadata": {
        "id": "hqDDgYMHHDGG"
      },
      "source": [
        "### Forward Constraint Check"
      ]
    },
    {
      "cell_type": "code",
      "metadata": {
        "id": "uBTEsywbGY0v"
      },
      "source": [
        "#* check if neighbours have possible colors avaliable\n",
        "def check_forward(graph, node, color_value):\n",
        "    for neigh in graph.adjacency_list[node]:\n",
        "        color_matrix[neigh][color_value] = 0\n",
        "        if (sum(color_matrix[neigh]) == 0): return False\n",
        "    return True"
      ],
      "execution_count": 84,
      "outputs": []
    },
    {
      "cell_type": "markdown",
      "metadata": {
        "id": "nlnBkPQKHMrH"
      },
      "source": [
        "### ForwardCheck Backtrack"
      ]
    },
    {
      "cell_type": "code",
      "metadata": {
        "id": "Wj3DMEZpIvOA"
      },
      "source": [
        "def forwardCheck_backtracking(graph, assigned):\n",
        "    return_ans = True\n",
        "    assign = False\n",
        "    ans = list()\n",
        "    temp = list()\n",
        "    forward = False\n",
        "\n",
        "    #* Check if all colors are assigned\n",
        "    for i in range(0, NODES):\n",
        "        if assigned[i] == -1:\n",
        "            return_ans = False\n",
        "            break\n",
        "    \n",
        "    if return_ans: return assigned\n",
        "\n",
        "    #* Getting the best node possible\n",
        "    node = select_node(graph, assigned)\n",
        "\n",
        "    print(\"Selected Node = \" + str(node))\n",
        "\n",
        "    for color in range(0, COLORS):\n",
        "        color_value = select_color(graph, node, color, assigned)\n",
        "\n",
        "        if color_value == -1:\n",
        "            ans.append(-1)\n",
        "            return ans\n",
        "        \n",
        "        if check_consistency(graph, node, color_value, assigned):\n",
        "            assigned[node] = color_value\n",
        "\n",
        "            print(\"COLOR given to Node \" + str(node) + \" is \" + str(color_value))\n",
        "            assign = True\n",
        "\n",
        "            for i in range(0, NODES):\n",
        "                    temp.append(color_matrix[i][color_value])\n",
        "\n",
        "            inference = check_forward(graph, node, color_value)\n",
        "            if (inference):\n",
        "                forward = True\n",
        "                add_forward(graph, node, color_value)\n",
        "                result = forwardCheck_backtracking(graph, assigned)\n",
        "\n",
        "                if (len(result) != 1):\n",
        "                    return result\n",
        "        if assign: assigned[node] = -1\n",
        "        if forward: revert_forward(color_value, temp)\n",
        "    ans.append(-1)\n",
        "    return ans"
      ],
      "execution_count": 85,
      "outputs": []
    },
    {
      "cell_type": "markdown",
      "metadata": {
        "id": "SdUCck1WGIQz"
      },
      "source": [
        "## AC3 Backtracking"
      ]
    },
    {
      "cell_type": "markdown",
      "metadata": {
        "id": "_zN89LvBHjoz"
      },
      "source": [
        "### Revise Method (ARC Consistency)"
      ]
    },
    {
      "cell_type": "code",
      "metadata": {
        "id": "XTj6NXfjFsQL"
      },
      "source": [
        "#* Revising the colors to create arc consistency\n",
        "def revise(xi, xj):\n",
        "    revisied = False\n",
        "    remove = True\n",
        "\n",
        "    for i in range(0, COLORS):\n",
        "        if color_matrix[xi][i] == 1:\n",
        "            for j in range(0, COLORS):\n",
        "                if color_matrix[xj][j] == 1 and i != j:\n",
        "                    remove = False\n",
        "                    break\n",
        "            if remove:\n",
        "                color_matrix[xi][i] = 0\n",
        "                revisied = True\n",
        "    return revisied"
      ],
      "execution_count": 86,
      "outputs": []
    },
    {
      "cell_type": "markdown",
      "metadata": {
        "id": "be5lJPNGHsRA"
      },
      "source": [
        "### AC3 function"
      ]
    },
    {
      "cell_type": "code",
      "metadata": {
        "id": "X8b_nYkeGR36"
      },
      "source": [
        "#* AC3 algorithm implementation\n",
        "def AC3(graph, assigned, node):\n",
        "    ac3_queue = list()\n",
        "\n",
        "    for neigh in graph.adjacency_list[node]:\n",
        "        ac3_queue.append((neigh, node))\n",
        "    \n",
        "    while (len(ac3_queue) != 0):\n",
        "        popped = ac3_queue.pop(0)\n",
        "\n",
        "        xi = popped[0]\n",
        "        xj = popped[1]\n",
        "\n",
        "        if (revise(xi, xj)):\n",
        "            if sum(color_matrix[xi]) == 0:\n",
        "                return False\n",
        "            \n",
        "            for neigh in graph.adjacency_list[xi]:\n",
        "                if assigned[neigh] == -1 and neigh != xj:\n",
        "                    ac3_queue.append((neigh, xi))\n",
        "    return True"
      ],
      "execution_count": 87,
      "outputs": []
    },
    {
      "cell_type": "markdown",
      "metadata": {
        "id": "4kTAl0w6Hw8j"
      },
      "source": [
        "### Revert on consistency fail"
      ]
    },
    {
      "cell_type": "code",
      "metadata": {
        "id": "NkhHpTs2GT6x"
      },
      "source": [
        "#* revert changes if any made by ac3 algorithm\n",
        "def revert_inference_ac3(temp):\n",
        "    for i in range(0, NODES):\n",
        "        color_matrix[i] = temp[i]"
      ],
      "execution_count": 88,
      "outputs": []
    },
    {
      "cell_type": "markdown",
      "metadata": {
        "id": "tip3GCIZI_RM"
      },
      "source": [
        "### AC3"
      ]
    },
    {
      "cell_type": "code",
      "metadata": {
        "id": "D5_B_qlgAKJ5"
      },
      "source": [
        "def backtrack(graph, assigned):\n",
        "    return_ans = True\n",
        "    assign = False\n",
        "    add_infer = False\n",
        "    ans = list()\n",
        "    temp = list()\n",
        "\n",
        "    #* Check if all colors are assigned\n",
        "    for i in range(0, NODES):\n",
        "        if assigned[i] == -1:\n",
        "            return_ans = False\n",
        "            break\n",
        "    \n",
        "    if return_ans: return assigned\n",
        "\n",
        "    #* Getting the best node possible\n",
        "    node = select_node(graph, assigned)\n",
        "\n",
        "    print(\"Selected Node = \" + str(node))\n",
        "\n",
        "    for color in range(0, COLORS):\n",
        "        color_value = select_color(graph, node, color, assigned)\n",
        "\n",
        "        print(\"Color Selected = \" + str(color_value))\n",
        "\n",
        "        if color_value == -1:\n",
        "            ans.append(-1)\n",
        "            return ans\n",
        "        \n",
        "        if check_consistency(graph, node, color_value, assigned):\n",
        "            assigned[node] = color_value\n",
        "\n",
        "            print(\"COLOR given to Node \" + str(node) + \" is \" + str(color_value))\n",
        "            assign = True\n",
        "\n",
        "            inference = AC3(graph, assigned, node)\n",
        "\n",
        "            if inference:\n",
        "                for i in range(0, NODES):\n",
        "                    temp.append(color_matrix[i])\n",
        "            add_infer = True\n",
        "            result = backtrack(graph, assigned)\n",
        "\n",
        "            if (len(result) != 1):\n",
        "                return result\n",
        "        if assign: assigned[node] = -1\n",
        "        if add_infer: revert_inference_ac3(temp)\n",
        "    ans.append(-1)\n",
        "    return ans"
      ],
      "execution_count": 89,
      "outputs": []
    },
    {
      "cell_type": "markdown",
      "metadata": {
        "id": "u3AFs0urGzdw"
      },
      "source": [
        "## Local Search Algorithm Implementation"
      ]
    },
    {
      "cell_type": "code",
      "metadata": {
        "id": "0bjotZZbHOdu"
      },
      "source": [
        "#* Check if current solution found is correct\n",
        "def check_current_solution(graph, assigned):\n",
        "    for i in range(0, NODES):\n",
        "        for neigh in graph.adjacency_list[i]:\n",
        "            if assigned[i] == assigned[neigh]:\n",
        "                return False\n",
        "    return True\n",
        "\n",
        "#* Check if 2 nodes have same color\n",
        "def find_conflicts(graph, assigned, node, color):\n",
        "    assigned[node] = color\n",
        "\n",
        "    cnt = 0\n",
        "    for neigh in graph.adjacency_list[node]:\n",
        "        if assigned[node] == assigned[neigh]:\n",
        "            cnt = cnt + 1\n",
        "    return cnt\n",
        "\n",
        "#* Find which node is conflicting in the current solution\n",
        "def find_conflicting_node(graph, assigned):\n",
        "    conflicts = list()\n",
        "\n",
        "    for i in range(0, NODES):\n",
        "        for neigh in graph.adjacency_list[i]:\n",
        "            if assigned[i] == assigned[neigh]:\n",
        "                conflicts.append(i)\n",
        "                break\n",
        "    \n",
        "    random_node = conflicts[np.random.randint(0, len(conflicts))]\n",
        "    return random_node\n",
        "\n",
        "#* Main local search algorithm implementation\n",
        "def local_search(graph, assigned, max_steps):\n",
        "    for i in range(0, NODES):\n",
        "        assigned[i] = np.random.randint(0, COLORS)\n",
        "    \n",
        "    for i in range(0, max_steps):\n",
        "        if (check_current_solution(graph, assigned)):\n",
        "            return assigned\n",
        "        \n",
        "        node = find_conflicting_node(graph, assigned)\n",
        "    \n",
        "        min_conflicts = sys.maxsize\n",
        "        current_color = 0\n",
        "        for i in range(0, COLORS):\n",
        "            if i != assigned[node]:\n",
        "                conflicts = find_conflicts(graph, assigned, node, i)\n",
        "\n",
        "                if conflicts < min_conflicts:\n",
        "                    min_conflicts = conflicts\n",
        "                    current_color = i\n",
        "        assigned[node] = current_color\n",
        "    return assigned"
      ],
      "execution_count": 90,
      "outputs": []
    },
    {
      "cell_type": "markdown",
      "metadata": {
        "id": "ZJ0jzceqCKa9"
      },
      "source": [
        "## Display Colored Graph"
      ]
    },
    {
      "cell_type": "code",
      "metadata": {
        "id": "GhvxqKaDCOqC"
      },
      "source": [
        "def view_graph(colors, edges):\n",
        "    G = nx.DiGraph()\n",
        "\n",
        "    edgeList = [(edge.source, edge.destination) for edge in edges]\n",
        "    # for edge in edges:\n",
        "    #     edgeList.append((edge.source, edge.destination))\n",
        "    \n",
        "    G.add_edges_from(edgeList)\n",
        "    pos = nx.circular_layout(G)\n",
        "    plt.figure(figsize = (7, 7))\n",
        "\n",
        "    color_red = list()\n",
        "    color_green = list()\n",
        "    color_blue = list()\n",
        "\n",
        "    for i in range(0, NODES):\n",
        "        if colors[i] == 0: color_red.append(i)\n",
        "        if colors[i] == 1: color_green.append(i)\n",
        "        if colors[i] == 2: color_blue.append(i)\n",
        "\n",
        "    nx.draw_networkx_nodes(G, pos, nodelist=color_red, node_size=500, node_color='red', node_shape='o')\n",
        "    nx.draw_networkx_nodes(G, pos, nodelist=color_green, node_size=500, node_color='green', node_shape='o')\n",
        "    nx.draw_networkx_nodes(G, pos, nodelist=color_blue, node_size=500, node_color='blue', node_shape='o')\n",
        "    nx.draw_networkx_edges(G, pos, edgelist=list(G.edges()), edge_color='black', arrowstyle=\"-\")\n",
        "    nx.draw_networkx_labels(G, pos)\n",
        "    plt.show()"
      ],
      "execution_count": 91,
      "outputs": []
    },
    {
      "cell_type": "markdown",
      "metadata": {
        "id": "MzvDXCXtAZ9E"
      },
      "source": [
        "## Main Execution"
      ]
    },
    {
      "cell_type": "markdown",
      "metadata": {
        "id": "UHK9pixNBfnM"
      },
      "source": [
        "### Building Graph and CSP function\n",
        "\n"
      ]
    },
    {
      "cell_type": "code",
      "metadata": {
        "id": "xXp5JHNmBU5u"
      },
      "source": [
        "def CSP_Search(graph, choice):\n",
        "    assigned = [-1 for i in range(0, NODES)]\n",
        "    if (choice == 0):\n",
        "        #* Simple Backtracking\n",
        "        return simple_backtracking(graph, assigned)\n",
        "    elif (choice == 1):\n",
        "        #* Backtracking with forward checking\n",
        "        return forwardCheck_backtracking(graph, assigned)\n",
        "    elif (choice  == 2):\n",
        "        #* Simple Local Search\n",
        "        max_steps = 100\n",
        "        return local_search(graph, assigned, max_steps) \n",
        "    elif (choice == 3):\n",
        "        #* AC3 constraint check\n",
        "        return backtrack(graph, assigned)\n",
        "\n",
        "edges = [Edge(0, 1), Edge(0, 2), Edge(0, 3), \n",
        "         Edge(0, 4), Edge(0, 5), Edge(1, 2), \n",
        "         Edge(2, 3), Edge(3, 4), Edge(4, 5),\n",
        "         Edge(4, 6)\n",
        "]\n",
        "graph = Graph(edges)"
      ],
      "execution_count": 92,
      "outputs": []
    },
    {
      "cell_type": "markdown",
      "metadata": {
        "id": "Gt-8hJoSAfBJ"
      },
      "source": [
        "### Simple Backtracking Output\n",
        "\n"
      ]
    },
    {
      "cell_type": "code",
      "metadata": {
        "colab": {
          "base_uri": "https://localhost:8080/",
          "height": 714
        },
        "id": "OzkR6BBoAeIM",
        "outputId": "176622f9-736a-4a38-d5d3-6371aef595e6"
      },
      "source": [
        "%%time\n",
        "reset()\n",
        "colors = CSP_Search(graph, 0)\n",
        "print(colors)\n",
        "print()\n",
        "view_graph(colors, edges)"
      ],
      "execution_count": 93,
      "outputs": [
        {
          "output_type": "stream",
          "text": [
            "Selected Node = 0\n",
            "COLOR given to Node 0 is 0\n",
            "Selected Node = 4\n",
            "COLOR given to Node 4 is 1\n",
            "Selected Node = 2\n",
            "COLOR given to Node 2 is 1\n",
            "Selected Node = 3\n",
            "COLOR given to Node 3 is 2\n",
            "Selected Node = 1\n",
            "COLOR given to Node 1 is 2\n",
            "Selected Node = 5\n",
            "COLOR given to Node 5 is 2\n",
            "Selected Node = 6\n",
            "COLOR given to Node 6 is 0\n",
            "[0, 2, 1, 2, 1, 2, 0]\n",
            "\n"
          ],
          "name": "stdout"
        },
        {
          "output_type": "display_data",
          "data": {
            "image/png": "[encoded data removed]",
            "text/plain": [
              "<Figure size 504x504 with 1 Axes>"
            ]
          },
          "metadata": {
            "tags": []
          }
        },
        {
          "output_type": "stream",
          "text": [
            "CPU times: user 436 ms, sys: 229 ms, total: 665 ms\n",
            "Wall time: 405 ms\n"
          ],
          "name": "stdout"
        }
      ]
    },
    {
      "cell_type": "markdown",
      "metadata": {
        "id": "AVj8HMFnFtHk"
      },
      "source": [
        "### ForwardCheck Backtracking Output"
      ]
    },
    {
      "cell_type": "code",
      "metadata": {
        "colab": {
          "base_uri": "https://localhost:8080/",
          "height": 882
        },
        "id": "5kNMpcS_FzEm",
        "outputId": "29a55b8c-6bf7-4021-8cbc-2501d05272ab"
      },
      "source": [
        "%%time\n",
        "reset()\n",
        "colors = CSP_Search(graph, 1)\n",
        "print(colors)\n",
        "print()\n",
        "view_graph(colors, edges)"
      ],
      "execution_count": 94,
      "outputs": [
        {
          "output_type": "stream",
          "text": [
            "Selected Node = 0\n",
            "COLOR given to Node 0 is 0\n",
            "Selected Node = 4\n",
            "COLOR given to Node 4 is 1\n",
            "Selected Node = 2\n",
            "COLOR given to Node 2 is 2\n",
            "COLOR given to Node 2 is 2\n",
            "COLOR given to Node 4 is 2\n",
            "Selected Node = 2\n",
            "COLOR given to Node 2 is 1\n",
            "COLOR given to Node 2 is 2\n",
            "COLOR given to Node 0 is 2\n",
            "Selected Node = 1\n",
            "COLOR given to Node 1 is 0\n",
            "Selected Node = 2\n",
            "COLOR given to Node 2 is 1\n",
            "Selected Node = 3\n",
            "COLOR given to Node 3 is 0\n",
            "Selected Node = 4\n",
            "COLOR given to Node 4 is 1\n",
            "Selected Node = 5\n",
            "COLOR given to Node 5 is 0\n",
            "Selected Node = 6\n",
            "COLOR given to Node 6 is 0\n",
            "[2, 0, 1, 0, 1, 0, 0]\n",
            "\n"
          ],
          "name": "stdout"
        },
        {
          "output_type": "display_data",
          "data": {
            "image/png": "[encoded data removed]",
            "text/plain": [
              "<Figure size 504x504 with 1 Axes>"
            ]
          },
          "metadata": {
            "tags": []
          }
        },
        {
          "output_type": "stream",
          "text": [
            "CPU times: user 444 ms, sys: 218 ms, total: 662 ms\n",
            "Wall time: 447 ms\n"
          ],
          "name": "stdout"
        }
      ]
    },
    {
      "cell_type": "markdown",
      "metadata": {
        "id": "PjC5s5beCkCT"
      },
      "source": [
        "### Local Search"
      ]
    },
    {
      "cell_type": "code",
      "metadata": {
        "colab": {
          "base_uri": "https://localhost:8080/",
          "height": 478
        },
        "id": "GWS0Fa6_CnEf",
        "outputId": "435bc04e-8c51-4bab-caa7-b82771554ffe"
      },
      "source": [
        "%%time\n",
        "reset()\n",
        "colors = CSP_Search(graph, 2)\n",
        "print(colors)\n",
        "print()\n",
        "view_graph(colors, edges)"
      ],
      "execution_count": 95,
      "outputs": [
        {
          "output_type": "stream",
          "text": [
            "[2, 1, 0, 1, 0, 1, 1]\n",
            "\n"
          ],
          "name": "stdout"
        },
        {
          "output_type": "display_data",
          "data": {
            "image/png": "[encoded data removed]",
            "text/plain": [
              "<Figure size 504x504 with 1 Axes>"
            ]
          },
          "metadata": {
            "tags": []
          }
        },
        {
          "output_type": "stream",
          "text": [
            "CPU times: user 408 ms, sys: 252 ms, total: 660 ms\n",
            "Wall time: 407 ms\n"
          ],
          "name": "stdout"
        }
      ]
    },
    {
      "cell_type": "markdown",
      "metadata": {
        "id": "Bd1o_1lMEDDt"
      },
      "source": [
        "### AC3 Backtracking"
      ]
    },
    {
      "cell_type": "code",
      "metadata": {
        "colab": {
          "base_uri": "https://localhost:8080/",
          "height": 1000
        },
        "id": "yPMdvx7CEE6x",
        "outputId": "b1e9d263-5ad2-445d-a1ab-90d585c19b6d"
      },
      "source": [
        "%%time\n",
        "reset()\n",
        "colors = CSP_Search(graph, 3)\n",
        "print(colors)\n",
        "print()\n",
        "view_graph(colors, edges)"
      ],
      "execution_count": 96,
      "outputs": [
        {
          "output_type": "stream",
          "text": [
            "Selected Node = 0\n",
            "Color Selected = 0\n",
            "COLOR given to Node 0 is 0\n",
            "Selected Node = 4\n",
            "Color Selected = 0\n",
            "Color Selected = 2\n",
            "COLOR given to Node 4 is 2\n",
            "Selected Node = 2\n",
            "Color Selected = 0\n",
            "Color Selected = 1\n",
            "COLOR given to Node 2 is 1\n",
            "Selected Node = 3\n",
            "Color Selected = 0\n",
            "Color Selected = 1\n",
            "Color Selected = 2\n",
            "Color Selected = 2\n",
            "COLOR given to Node 2 is 2\n",
            "Selected Node = 3\n",
            "Color Selected = 0\n",
            "Color Selected = 1\n",
            "COLOR given to Node 3 is 1\n",
            "Selected Node = 1\n",
            "Color Selected = 0\n",
            "Color Selected = 1\n",
            "COLOR given to Node 1 is 1\n",
            "Selected Node = 5\n",
            "Color Selected = 0\n",
            "Color Selected = 1\n",
            "COLOR given to Node 5 is 1\n",
            "Selected Node = 6\n",
            "Color Selected = 0\n",
            "COLOR given to Node 6 is 0\n",
            "[0, 1, 2, 1, 2, 1, 0]\n",
            "\n"
          ],
          "name": "stdout"
        },
        {
          "output_type": "display_data",
          "data": {
            "image/png": "[encoded data removed]",
            "text/plain": [
              "<Figure size 504x504 with 1 Axes>"
            ]
          },
          "metadata": {
            "tags": []
          }
        },
        {
          "output_type": "stream",
          "text": [
            "CPU times: user 439 ms, sys: 214 ms, total: 653 ms\n",
            "Wall time: 454 ms\n"
          ],
          "name": "stdout"
        }
      ]
    },
    {
      "cell_type": "code",
      "metadata": {
        "id": "N8G4e5rxEL70"
      },
      "source": [
        ""
      ],
      "execution_count": 96,
      "outputs": []
    }
  ]
}